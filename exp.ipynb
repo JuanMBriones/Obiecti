{
 "cells": [
  {
   "cell_type": "code",
   "execution_count": 73,
   "metadata": {},
   "outputs": [],
   "source": [
    "\n",
    "class Array:\n",
    "    def __init__(self, limit, dim, r = 1):\n",
    "        self.next = None\n",
    "        self.limit = limit\n",
    "        self.r = (limit + 1) * r\n",
    "        self.dim = dim\n",
    "        self.offset = 0\n",
    "        self.m = 0\n",
    "    \n",
    "    def get_r(self):\n",
    "        return self.r\n",
    "    \n",
    "    def get(self):\n",
    "        return f\"r={self.r}, lim={self.limit}, dim={self.dim}, m={self.m}, offset={self.offset}\"\n",
    "\n",
    "class ArrayList:\n",
    "    def __init__(self, dim, limits: list):\n",
    "        self.head = None\n",
    "        self.r = 1\n",
    "        self.k = 0\n",
    "\n",
    "        for i in range(dim):\n",
    "            self.add(i, limits[i])\n",
    "        self.size = self.r\n",
    "    \n",
    "    def add(self, i, limit):\n",
    "        curr = self.head\n",
    "\n",
    "        if not curr:\n",
    "            self.head = Array(limit, i, self.r)\n",
    "            self.r = self.head.get_r()\n",
    "            return\n",
    "\n",
    "        while curr.next:\n",
    "            curr = curr.next\n",
    "        \n",
    "        curr.next = Array(limit, i, self.r)\n",
    "        self.r = curr.next.get_r()\n",
    "\n",
    "    def get_all(self):\n",
    "        print(self.head)\n",
    "        curr = self.head\n",
    "\n",
    "        while curr:\n",
    "            print(curr.get())\n",
    "            curr = curr.next\n",
    "    \n",
    "    def get_size(self):\n",
    "        return self.size\n",
    "    \n",
    "    def calculate(self):\n",
    "        curr = self.head\n",
    "        m = 0\n",
    "        \n",
    "        while curr:\n",
    "            curr.m = self.r / (curr.limit + 1)\n",
    "            self.r = curr.m\n",
    "\n",
    "            curr.offset = curr.offset + 0 # 0 as long as we bound our arrays starting on 0, curr.limit * curr.m\n",
    "            if not curr.next:\n",
    "                curr.offset = curr.offset * -1\n",
    "                self.k = curr.offset\n",
    "            curr = curr.next\n"
   ]
  },
  {
   "cell_type": "code",
   "execution_count": 74,
   "metadata": {},
   "outputs": [],
   "source": [
    "s = ArrayList(3, [3, 4, 5])"
   ]
  },
  {
   "cell_type": "code",
   "execution_count": 75,
   "metadata": {},
   "outputs": [
    {
     "data": {
      "text/plain": [
       "120"
      ]
     },
     "execution_count": 75,
     "metadata": {},
     "output_type": "execute_result"
    }
   ],
   "source": [
    "s.get_size()"
   ]
  },
  {
   "cell_type": "code",
   "execution_count": 76,
   "metadata": {},
   "outputs": [
    {
     "data": {
      "text/plain": [
       "120"
      ]
     },
     "execution_count": 76,
     "metadata": {},
     "output_type": "execute_result"
    }
   ],
   "source": [
    "s.r"
   ]
  },
  {
   "cell_type": "code",
   "execution_count": 77,
   "metadata": {},
   "outputs": [],
   "source": [
    "s.calculate()"
   ]
  },
  {
   "cell_type": "code",
   "execution_count": 53,
   "metadata": {},
   "outputs": [
    {
     "name": "stdout",
     "output_type": "stream",
     "text": [
      "<__main__.Array object at 0x1047a5e80>\n",
      "r=4, dim=0, m=0, offset=0\n",
      "r=20, dim=1, m=0, offset=0\n",
      "r=120, dim=2, m=0, offset=0\n"
     ]
    }
   ],
   "source": [
    "s.get_all()"
   ]
  },
  {
   "cell_type": "code",
   "execution_count": 78,
   "metadata": {},
   "outputs": [
    {
     "name": "stdout",
     "output_type": "stream",
     "text": [
      "<__main__.Array object at 0x1041cdb20>\n",
      "r=4, lim=3, dim=0, m=30.0, offset=90.0\n",
      "r=20, lim=4, dim=1, m=6.0, offset=24.0\n",
      "r=120, lim=5, dim=2, m=1.0, offset=-5.0\n"
     ]
    }
   ],
   "source": [
    "s.get_all()"
   ]
  },
  {
   "cell_type": "code",
   "execution_count": 79,
   "metadata": {},
   "outputs": [],
   "source": [
    "s = ArrayList(1, [2])"
   ]
  },
  {
   "cell_type": "code",
   "execution_count": 80,
   "metadata": {},
   "outputs": [],
   "source": [
    "s.calculate()"
   ]
  },
  {
   "cell_type": "code",
   "execution_count": 81,
   "metadata": {},
   "outputs": [
    {
     "name": "stdout",
     "output_type": "stream",
     "text": [
      "<__main__.Array object at 0x1041cdd30>\n",
      "r=3, lim=2, dim=0, m=1.0, offset=-2.0\n"
     ]
    }
   ],
   "source": [
    "s.get_all()"
   ]
  },
  {
   "cell_type": "code",
   "execution_count": 83,
   "metadata": {},
   "outputs": [
    {
     "data": {
      "text/plain": [
       "3"
      ]
     },
     "execution_count": 83,
     "metadata": {},
     "output_type": "execute_result"
    }
   ],
   "source": [
    "s.get_size()"
   ]
  },
  {
   "cell_type": "code",
   "execution_count": null,
   "metadata": {},
   "outputs": [],
   "source": []
  }
 ],
 "metadata": {
  "interpreter": {
   "hash": "b0fa6594d8f4cbf19f97940f81e996739fb7646882a419484c72d19e05852a7e"
  },
  "kernelspec": {
   "display_name": "Python 3.9.12 64-bit",
   "language": "python",
   "name": "python3"
  },
  "language_info": {
   "codemirror_mode": {
    "name": "ipython",
    "version": 3
   },
   "file_extension": ".py",
   "mimetype": "text/x-python",
   "name": "python",
   "nbconvert_exporter": "python",
   "pygments_lexer": "ipython3",
   "version": "3.9.12"
  },
  "orig_nbformat": 4
 },
 "nbformat": 4,
 "nbformat_minor": 2
}
